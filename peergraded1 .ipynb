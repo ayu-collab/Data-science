{
 "cells": [
  {
   "cell_type": "markdown",
   "id": "2b7978f8-d1a2-47dc-8311-fac51d4a28e6",
   "metadata": {},
   "source": [
    "#Data Science Tools and Ecosystem"
   ]
  },
  {
   "cell_type": "raw",
   "id": "f523f609-a6dc-42b8-9862-344f1a72fdc3",
   "metadata": {},
   "source": [
    "In this notebook, Data Science Tools and Ecosystem are summarized."
   ]
  },
  {
   "cell_type": "raw",
   "id": "53bc8099-647a-44a0-babc-94c5dad44e48",
   "metadata": {},
   "source": [
    "Some of the popular languages that Data Scientists use are:"
   ]
  },
  {
   "cell_type": "markdown",
   "id": "0f92d900-5660-4515-a521-40f43fcfcc59",
   "metadata": {},
   "source": [
    "1. Python\n",
    "2. SQL\n",
    "3. R"
   ]
  },
  {
   "cell_type": "raw",
   "id": "050032ad-3d4c-4c6f-a126-9f2e3dbe76dd",
   "metadata": {},
   "source": [
    "Some of the commonly used libraries used by Data Scientists include:"
   ]
  },
  {
   "cell_type": "markdown",
   "id": "99cdf17b-87bf-47ce-858c-838c3cb47dc6",
   "metadata": {},
   "source": [
    "1. Numpy  \n",
    "2. Pandas  \n",
    "3. Tensorflow"
   ]
  },
  {
   "cell_type": "raw",
   "id": "f6445ac7-d005-40ab-9b00-4105dfea0265",
   "metadata": {},
   "source": [
    "Data Science Tools"
   ]
  },
  {
   "cell_type": "markdown",
   "id": "ed211bcd-d504-40bf-9a17-b607f7926008",
   "metadata": {},
   "source": [
    "| Data science Tool | \n",
    "| ------ |\n",
    "| Jupyter Notebook |\n",
    "| Google Cloud Platform |\n",
    "| Anaconda |"
   ]
  },
  {
   "cell_type": "raw",
   "id": "b82065e5-eed3-418d-9ec1-fb9843ced7e8",
   "metadata": {},
   "source": [
    "Below are a few examples of evaluating arithmetic expressions in Python"
   ]
  },
  {
   "cell_type": "code",
   "execution_count": 3,
   "id": "68c5e6ba-eba1-488f-8677-06d9f43dfb82",
   "metadata": {},
   "outputs": [
    {
     "data": {
      "text/plain": [
       "20.0"
      ]
     },
     "execution_count": 3,
     "metadata": {},
     "output_type": "execute_result"
    }
   ],
   "source": [
    "100/5"
   ]
  },
  {
   "cell_type": "raw",
   "id": "19299f84-c9f0-4d31-b8b7-6bcac62e72b5",
   "metadata": {},
   "source": [
    "This a simple arithmetic expression to mutiply then add integers"
   ]
  },
  {
   "cell_type": "code",
   "execution_count": 5,
   "id": "961e1c52-8a94-4a1f-a145-ed9ff1072ad9",
   "metadata": {},
   "outputs": [
    {
     "data": {
      "text/plain": [
       "17"
      ]
     },
     "execution_count": 5,
     "metadata": {},
     "output_type": "execute_result"
    }
   ],
   "source": [
    "(3*4)+5"
   ]
  },
  {
   "cell_type": "raw",
   "id": "4776a4f2-6fc9-47b1-9519-2255b8a5b87a",
   "metadata": {},
   "source": [
    "This will convert 200 minutes to hours by diving by 60"
   ]
  },
  {
   "cell_type": "code",
   "execution_count": 7,
   "id": "ce2bee75-34df-42dc-9612-4071ef319fa3",
   "metadata": {},
   "outputs": [
    {
     "data": {
      "text/plain": [
       "3.3333333333333335"
      ]
     },
     "execution_count": 7,
     "metadata": {},
     "output_type": "execute_result"
    }
   ],
   "source": [
    "200/60"
   ]
  },
  {
   "cell_type": "markdown",
   "id": "4ea09e1e-3ada-4f17-92b0-3fd183e961e6",
   "metadata": {},
   "source": [
    "**Objectives:**"
   ]
  },
  {
   "cell_type": "markdown",
   "id": "5fc1e569-5a69-4591-bb12-3da4508f5f99",
   "metadata": {},
   "source": [
    "1. simple arithmetic expression to mutiply then add integers\n",
    "2. commonly used libraries used by Data Scientist\n",
    "3. List popular languages for Data Science"
   ]
  },
  {
   "cell_type": "markdown",
   "id": "64da4406-2887-43d5-9146-457a3bef2e44",
   "metadata": {},
   "source": [
    "##Author"
   ]
  },
  {
   "cell_type": "raw",
   "id": "87532caa-543c-4e25-8500-7eae9d71112f",
   "metadata": {},
   "source": [
    "Ayushma"
   ]
  },
  {
   "cell_type": "code",
   "execution_count": null,
   "id": "b26d00ac-f33e-4368-a519-a07350e43d91",
   "metadata": {},
   "outputs": [],
   "source": []
  }
 ],
 "metadata": {
  "kernelspec": {
   "display_name": "Python",
   "language": "python",
   "name": "conda-env-python-py"
  },
  "language_info": {
   "codemirror_mode": {
    "name": "ipython",
    "version": 3
   },
   "file_extension": ".py",
   "mimetype": "text/x-python",
   "name": "python",
   "nbconvert_exporter": "python",
   "pygments_lexer": "ipython3",
   "version": "3.7.12"
  }
 },
 "nbformat": 4,
 "nbformat_minor": 5
}
