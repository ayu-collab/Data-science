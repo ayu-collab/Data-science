{
 "cells": [
  {
   "cell_type": "markdown",
   "id": "aab2c7c5-cfa5-4655-922f-13e553cc480a",
   "metadata": {},
   "source": [
    " My Jupyter Notebook on IBM Watson Studio"
   ]
  },
  {
   "cell_type": "markdown",
   "id": "e40a0198-d24c-43f2-b9a1-52d9ff0a3baa",
   "metadata": {},
   "source": [
    "**Ayushma Devkota**"
   ]
  },
  {
   "cell_type": "raw",
   "id": "7748b5d2-fe83-4b29-84f9-9bf3ef140e80",
   "metadata": {},
   "source": [
    "My desired occupation is Data Scientist "
   ]
  },
  {
   "cell_type": "markdown",
   "id": "99dc43d6-7f0b-48e9-a5ef-7b8bc75b4c68",
   "metadata": {},
   "source": [
    "*I Am interested in data science because I am interested in math and enjoy playing with data to find outcome* "
   ]
  },
  {
   "cell_type": "markdown",
   "id": "3cf032cb-8f31-4c9c-9c32-cecf775cbf21",
   "metadata": {},
   "source": [
    "### Adding two numbers"
   ]
  },
  {
   "cell_type": "code",
   "execution_count": 3,
   "id": "85ebc0e1-887b-410b-a190-ebd0e5a5560f",
   "metadata": {},
   "outputs": [
    {
     "data": {
      "text/plain": [
       "2"
      ]
     },
     "execution_count": 3,
     "metadata": {},
     "output_type": "execute_result"
    }
   ],
   "source": [
    "1+1"
   ]
  },
  {
   "cell_type": "raw",
   "id": "192a99f5-a7ca-4159-a0b0-6d48342e8305",
   "metadata": {},
   "source": [
    "Using Markdown"
   ]
  },
  {
   "cell_type": "raw",
   "id": "15480e20-d600-4c21-b2dd-7dd1e2c03386",
   "metadata": {},
   "source": [
    "Link"
   ]
  },
  {
   "cell_type": "markdown",
   "id": "b4789945-9636-4a07-a278-d0cf977501ad",
   "metadata": {},
   "source": [
    "[Click here to open github](https://github.com/)"
   ]
  },
  {
   "cell_type": "raw",
   "id": "5c757dca-0075-4a30-8ecf-597cb5eccdb4",
   "metadata": {},
   "source": [
    "Numbered list"
   ]
  },
  {
   "cell_type": "markdown",
   "id": "97db959a-2c4f-4742-abaf-1049891d3da1",
   "metadata": {},
   "source": [
    "1. Line number one \n",
    "2. Line number two"
   ]
  },
  {
   "cell_type": "raw",
   "id": "637569e0-0b0c-49d5-a7c5-ee1ee5565484",
   "metadata": {},
   "source": [
    "Table"
   ]
  },
  {
   "cell_type": "markdown",
   "id": "d5c74708-6ac4-4c98-a0f1-d34742953379",
   "metadata": {
    "tags": []
   },
   "source": [
    "| header | header |\n",
    "| ------ | ------ |\n",
    "| cell | cell |\n"
   ]
  },
  {
   "cell_type": "code",
   "execution_count": null,
   "id": "dff0d6ce-fa31-47e8-a23e-dca6af933342",
   "metadata": {},
   "outputs": [],
   "source": []
  }
 ],
 "metadata": {
  "kernelspec": {
   "display_name": "Python",
   "language": "python",
   "name": "conda-env-python-py"
  },
  "language_info": {
   "codemirror_mode": {
    "name": "ipython",
    "version": 3
   },
   "file_extension": ".py",
   "mimetype": "text/x-python",
   "name": "python",
   "nbconvert_exporter": "python",
   "pygments_lexer": "ipython3",
   "version": "3.7.12"
  }
 },
 "nbformat": 4,
 "nbformat_minor": 5
}
