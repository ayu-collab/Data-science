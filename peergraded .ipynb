{
 "cells": [
  {
   "cell_type": "markdown",
   "id": "2b7978f8-d1a2-47dc-8311-fac51d4a28e6",
   "metadata": {},
   "source": [
    "#Data Science Tools and Ecosystem"
   ]
  },
  {
   "cell_type": "raw",
   "id": "f523f609-a6dc-42b8-9862-344f1a72fdc3",
   "metadata": {},
   "source": [
    "In this notebook, Data Science Tools and Ecosystem are summarized."
   ]
  },
  {
   "cell_type": "raw",
   "id": "53bc8099-647a-44a0-babc-94c5dad44e48",
   "metadata": {},
   "source": [
    "Some of the popular languages that Data Scientists use are:"
   ]
  },
  {
   "cell_type": "markdown",
   "id": "0f92d900-5660-4515-a521-40f43fcfcc59",
   "metadata": {},
   "source": [
    "1. Python\n",
    "2. SQL\n",
    "3. R"
   ]
  },
  {
   "cell_type": "raw",
   "id": "050032ad-3d4c-4c6f-a126-9f2e3dbe76dd",
   "metadata": {},
   "source": [
    "Some of the commonly used libraries used by Data Scientists include:"
   ]
  },
  {
   "cell_type": "markdown",
   "id": "99cdf17b-87bf-47ce-858c-838c3cb47dc6",
   "metadata": {},
   "source": [
    "1. Numpy  \n",
    "2. Pandas  \n",
    "3. Tensorflow"
   ]
  },
  {
   "cell_type": "markdown",
   "id": "65614770-ba37-43ff-ba52-c3dd42f53811",
   "metadata": {
    "tags": []
   },
   "source": [
    "| Data science Tool |\n",
    "| ------ | ------ |\n",
    "|  Jupyter Notebook |\n",
    "| Google Cloud Platform |\n",
    "| Anaconda |"
   ]
  },
  {
   "cell_type": "raw",
   "id": "b82065e5-eed3-418d-9ec1-fb9843ced7e8",
   "metadata": {},
   "source": [
    "Below are a few examples of evaluating arithmetic expressions in Python"
   ]
  },
  {
   "cell_type": "code",
   "execution_count": 3,
   "id": "68c5e6ba-eba1-488f-8677-06d9f43dfb82",
   "metadata": {},
   "outputs": [
    {
     "data": {
      "text/plain": [
       "20.0"
      ]
     },
     "execution_count": 3,
     "metadata": {},
     "output_type": "execute_result"
    }
   ],
   "source": [
    "100/5"
   ]
  },
  {
   "cell_type": "raw",
   "id": "19299f84-c9f0-4d31-b8b7-6bcac62e72b5",
   "metadata": {},
   "source": [
    "This a simple arithmetic expression to mutiply then add integers"
   ]
  },
  {
   "cell_type": "code",
   "execution_count": 5,
   "id": "961e1c52-8a94-4a1f-a145-ed9ff1072ad9",
   "metadata": {},
   "outputs": [
    {
     "data": {
      "text/plain": [
       "17"
      ]
     },
     "execution_count": 5,
     "metadata": {},
     "output_type": "execute_result"
    }
   ],
   "source": [
    "(3*4)+5"
   ]
  },
  {
   "cell_type": "markdown",
   "id": "4ea09e1e-3ada-4f17-92b0-3fd183e961e6",
   "metadata": {},
   "source": [
    "**Objectives:**"
   ]
  },
  {
   "cell_type": "markdown",
   "id": "5fc1e569-5a69-4591-bb12-3da4508f5f99",
   "metadata": {},
   "source": [
    "1. simple arithmetic expression to mutiply then add integers\n",
    "2. commonly used libraries used by Data Scientist\n",
    "3. List popular languages for Data Science"
   ]
  },
  {
   "cell_type": "markdown",
   "id": "1c752716-6bfa-4d23-833d-de3ab6b89aaf",
   "metadata": {},
   "source": [
    "##Author"
   ]
  },
  {
   "cell_type": "raw",
   "id": "d85f050f-60a5-4ebb-8a30-718331ee2025",
   "metadata": {},
   "source": [
    "Ayushma "
   ]
  },
  {
   "cell_type": "code",
   "execution_count": null,
   "id": "7e2ae4e6-44fb-40d5-9b29-e4b345dde521",
   "metadata": {},
   "outputs": [],
   "source": []
  }
 ],
 "metadata": {
  "kernelspec": {
   "display_name": "Python",
   "language": "python",
   "name": "conda-env-python-py"
  },
  "language_info": {
   "codemirror_mode": {
    "name": "ipython",
    "version": 3
   },
   "file_extension": ".py",
   "mimetype": "text/x-python",
   "name": "python",
   "nbconvert_exporter": "python",
   "pygments_lexer": "ipython3",
   "version": "3.7.12"
  }
 },
 "nbformat": 4,
 "nbformat_minor": 5
}
